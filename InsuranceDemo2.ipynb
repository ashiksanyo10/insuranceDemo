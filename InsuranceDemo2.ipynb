{
  "nbformat": 4,
  "nbformat_minor": 0,
  "metadata": {
    "colab": {
      "provenance": [],
      "authorship_tag": "ABX9TyNnBku3VroRqsd+/Waatu46",
      "include_colab_link": true
    },
    "kernelspec": {
      "name": "python3",
      "display_name": "Python 3"
    },
    "language_info": {
      "name": "python"
    }
  },
  "cells": [
    {
      "cell_type": "markdown",
      "metadata": {
        "id": "view-in-github",
        "colab_type": "text"
      },
      "source": [
        "<a href=\"https://colab.research.google.com/github/ashiksanyo10/insuranceDemo/blob/main/InsuranceDemo2.ipynb\" target=\"_parent\"><img src=\"https://colab.research.google.com/assets/colab-badge.svg\" alt=\"Open In Colab\"/></a>"
      ]
    },
    {
      "cell_type": "code",
      "source": [
        "from sklearn.metrics import accuracy_score\n",
        "\n",
        "X = 80 #X is the current accuracy of the model\n",
        "Y = 90 #Y is the accuracy of the model after adding gender\n",
        "\n",
        "increase_in_accuracy = Y - X\n",
        "threshold = 5\n",
        "\n",
        "if increase_in_accuracy >= threshold:\n",
        "    print(\"Add gender to the model\")\n",
        "else:\n",
        "    print(\"Do not add gender to the model\")\n"
      ],
      "metadata": {
        "colab": {
          "base_uri": "https://localhost:8080/"
        },
        "id": "HPGNmLInxUQL",
        "outputId": "7d09ef6d-8410-45a5-889b-8572925c066d"
      },
      "execution_count": 62,
      "outputs": [
        {
          "output_type": "stream",
          "name": "stdout",
          "text": [
            "Add gender to the model\n"
          ]
        }
      ]
    },
    {
      "cell_type": "code",
      "source": [],
      "metadata": {
        "id": "dmSqD-2qx4aO"
      },
      "execution_count": null,
      "outputs": []
    }
  ]
}